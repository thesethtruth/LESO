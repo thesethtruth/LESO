{
 "metadata": {
  "language_info": {
   "codemirror_mode": {
    "name": "ipython",
    "version": 3
   },
   "file_extension": ".py",
   "mimetype": "text/x-python",
   "name": "python",
   "nbconvert_exporter": "python",
   "pygments_lexer": "ipython3",
   "version": "3.9.0"
  },
  "orig_nbformat": 2,
  "kernelspec": {
   "name": "python3",
   "display_name": "Python 3.9.0 64-bit ('.venvLESO': venv)"
  },
  "metadata": {
   "interpreter": {
    "hash": "4529b553aa7d81b3b45216ac3ee60759217b4fd9f23ee45243073df3afbe4276"
   }
  },
  "interpreter": {
   "hash": "3c8f8c95c071a286ef0796ad965e1a896e3eed44b0d509ceab3209cc0cb8e79f"
  }
 },
 "nbformat": 4,
 "nbformat_minor": 2,
 "cells": [
  {
   "cell_type": "code",
   "execution_count": 16,
   "source": [
    "## Import relevant packages\r\n",
    "from LESO import System\r\n",
    "from LESO import PhotoVoltaic, Wind, Lithium, FastCharger, Consumer, Grid, FinalBalance"
   ],
   "outputs": [],
   "metadata": {}
  },
  {
   "cell_type": "code",
   "execution_count": 17,
   "source": [
    "#%% Define system and components\r\n",
    "modelname = \"VREEVHUB_Utrecht_plain\"\r\n",
    "lat, lon = 52.09, 5.15 # Utrecht\r\n",
    "target_dir = \"G:\\\\My Drive\\\\0 Thesis\\\\LESO results\\\\examples\"\r\n",
    "\r\n",
    "# initiate System component\r\n",
    "system = System(latitude=lat, longitude=lon, model_name=modelname)\r\n",
    "\r\n",
    "# initiate and define components\r\n",
    "pv_s = PhotoVoltaic(\"PV Full south\", dof=True)\r\n",
    "pv_w = PhotoVoltaic(\"PV West\", azimuth=90, dof=True, capex=0.55) # slightly cheaper (lower land use, straight-forward construction)\r\n",
    "pv_e = PhotoVoltaic(\"PV East\", azimuth=-90, dof=True, capex=0.55) # slightly cheaper (lower land use, straight-forward construction)\r\n",
    "wind = Wind(\"Onshore turbine\", dof=True)\r\n",
    "bat = Lithium(\"Li-ion EES\", dof=True)\r\n",
    "charger = FastCharger(\"DC quickcharger\", dof=False)\r\n",
    "petrolstation = Consumer(\"Petrolstation E. demand\")\r\n",
    "grid = Grid(\"Grid connection\", installed=150e3)\r\n",
    "final = FinalBalance(name=\"curtailment_underload\")"
   ],
   "outputs": [],
   "metadata": {}
  },
  {
   "cell_type": "code",
   "execution_count": 18,
   "source": [
    "#%% add the components to the system\r\n",
    "component_list = [pv_s, pv_w, pv_e, wind, bat, charger, petrolstation, final, grid]\r\n",
    "system.add_components(component_list)"
   ],
   "outputs": [],
   "metadata": {}
  },
  {
   "cell_type": "code",
   "execution_count": 19,
   "source": [
    "# Run the optimization\r\n",
    "\r\n",
    "## PRINT\r\n",
    "if False:\r\n",
    "    system.pyomo_print()\r\n",
    "    \r\n",
    "## SOLVE\r\n",
    "if True:\r\n",
    "    system.optimize(\r\n",
    "            objective='osc',        # overnight system cost\r\n",
    "            time=None,              # resorts to default; year 8760h\r\n",
    "            store=False,             # write-out to json\r\n",
    "            solver='gurobi',        # default solver\r\n",
    "            nonconvex=False,        # solver option (warning will show if needed)\r\n",
    "            solve=True,             # solve or just create model\r\n",
    "            tee=False,              # mute solver outputs\r\n",
    "    )\r\n",
    "\r\n"
   ],
   "outputs": [
    {
     "output_type": "stream",
     "name": "stdout",
     "text": [
      "\n",
      "Calculating time series for 9 components...\n"
     ]
    },
    {
     "output_type": "stream",
     "name": "stderr",
     "text": [
      "C:\\Users\\Sethv\\#Universiteit Twente\\GIT\\.venvLESO\\lib\\site-packages\\pvlib\\solarposition.py:368: FutureWarning: casting datetime64[ns] values to int64 with .astype(...) is deprecated and will raise in a future version. Use .view(...) instead.\n",
      "  unixtime = np.array(time.astype(np.int64)/10**9)\n"
     ]
    },
    {
     "output_type": "stream",
     "name": "stdout",
     "text": [
      "c:\\users\\sethv\\#universiteit twente\\git\\leso\\LESO\\data\\consumption.csv\n",
      "---> Note: lithium2 does not have 'calculate_time_serie' function\n",
      "---> Note: grid2 does not have 'calculate_time_serie' function\n",
      "---> Note: FinalBalance does not have 'calculate_time_serie' function\n",
      "pv4 size                 =  0.0 kW(h)\n",
      "pv5 size                 =  352.8 kW(h)\n",
      "pv6 size                 =  1170.1 kW(h)\n",
      "wind2 size                 =  464.4 kW(h)\n",
      "lithium2 size                 =  2111.2 kW(h)\n",
      "\n",
      "Total system cost (objective)=  -338.6 k€\n",
      "proceeding to hacky method of splitting power to pos/neg\n"
     ]
    }
   ],
   "metadata": {}
  },
  {
   "cell_type": "code",
   "execution_count": 26,
   "source": [
    "# access the results :: use the AttrDict at system.results to get to the data of interest.\r\n",
    "\r\n",
    "for key in system.results.components:\r\n",
    "    component = system.results.components[key]\r\n",
    "    if component.settings.get(\"installed\", None):\r\n",
    "        print(f\"{component.name} installed capacity: {component.settings.installed/1e3} kW(h)\")\r\n"
   ],
   "outputs": [
    {
     "output_type": "stream",
     "name": "stdout",
     "text": [
      "PV Full south installed capacity: 9.927574677308414e-09 kW(h)\n",
      "PV West installed capacity: 352.8411767548082 kW(h)\n",
      "PV East installed capacity: 1170.1294517225058 kW(h)\n",
      "Onshore turbine installed capacity: 464.4043772897149 kW(h)\n",
      "DC quickcharger installed capacity: 0.004 kW(h)\n",
      "Li-ion EES installed capacity: 2111.2327957457487 kW(h)\n",
      "Grid connection installed capacity: 150.0 kW(h)\n"
     ]
    }
   ],
   "metadata": {}
  }
 ]
}