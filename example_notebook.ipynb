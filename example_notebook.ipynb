{
 "metadata": {
  "language_info": {
   "codemirror_mode": {
    "name": "ipython",
    "version": 3
   },
   "file_extension": ".py",
   "mimetype": "text/x-python",
   "name": "python",
   "nbconvert_exporter": "python",
   "pygments_lexer": "ipython3",
   "version": 3
  },
  "orig_nbformat": 2
 },
 "nbformat": 4,
 "nbformat_minor": 2,
 "cells": [
  {
   "source": [
    "## Import relevant packages\n",
    "from os import name\n",
    "from LESO import System\n",
    "from LESO import PhotoVoltaic, Wind, Lithium, FastCharger, Consumer, Grid, FinalBalance"
   ],
   "cell_type": "code",
   "metadata": {},
   "execution_count": null,
   "outputs": []
  },
  {
   "cell_type": "code",
   "execution_count": null,
   "metadata": {},
   "outputs": [],
   "source": [
    "\n",
    "\n",
    "## Define system and components\n",
    "\n",
    "system = System(52, 5, model_name = \"VRE-ESS-EV-hub\")\n",
    "# =============================================================================\n",
    "pv1 =           PhotoVoltaic('PV Full south', dof = True)\n",
    "pv2 =           PhotoVoltaic('PV West', azimuth = 90, dof = True)\n",
    "pv3 =           PhotoVoltaic('PV East', azimuth = -90, dof = True)\n",
    "wind1 =         Wind('Windturbine Mikey', dof = True)\n",
    "wind2 =         Wind('Windturbine Johnson')\n",
    "bat1 =          Lithium('Li-ion EES', dof = True)\n",
    "charger1 =      FastCharger('180 linkerbaan quick-charge 9000')\n",
    "petrolstation = Consumer('Total petrolstation')\n",
    "grid =          Grid('210 KVA', installed = 150e3)\n",
    "# ============================================================================="
   ]
  },
  {
   "source": [
    "component_list = [pv1, wind1, bat1, charger1, petrolstation, grid]\n",
    "system.add_components(component_list)"
   ],
   "cell_type": "code",
   "metadata": {},
   "execution_count": null,
   "outputs": []
  },
  {
   "source": [
    "\n",
    "system.pyomo_go\n",
    "system.run_merit_order()"
   ],
   "cell_type": "code",
   "metadata": {},
   "execution_count": null,
   "outputs": []
  }
 ]
}