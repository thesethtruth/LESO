{
 "metadata": {
  "language_info": {
   "codemirror_mode": {
    "name": "ipython",
    "version": 3
   },
   "file_extension": ".py",
   "mimetype": "text/x-python",
   "name": "python",
   "nbconvert_exporter": "python",
   "pygments_lexer": "ipython3",
   "version": "3.9.0"
  },
  "orig_nbformat": 2,
  "kernelspec": {
   "name": "python390jvsc74a57bd04529b553aa7d81b3b45216ac3ee60759217b4fd9f23ee45243073df3afbe4276",
   "display_name": "Python 3.9.0 64-bit"
  },
  "metadata": {
   "interpreter": {
    "hash": "4529b553aa7d81b3b45216ac3ee60759217b4fd9f23ee45243073df3afbe4276"
   }
  }
 },
 "nbformat": 4,
 "nbformat_minor": 2,
 "cells": [
  {
   "source": [
    "## Import relevant packages\n",
    "from os import name\n",
    "from LESO import System\n",
    "from LESO import PhotoVoltaic, Wind, Lithium, FastCharger, Consumer, Grid, FinalBalance, PhotoVoltaicAdvanced, WindOffshore"
   ],
   "cell_type": "code",
   "metadata": {},
   "execution_count": 1,
   "outputs": []
  },
  {
   "cell_type": "code",
   "execution_count": 2,
   "metadata": {},
   "outputs": [],
   "source": [
    "\n",
    "## Define system and components\n",
    "modelname = 'VREEVHUB with advanced PV and offshore option'\n",
    "\n",
    "system = System(52, 5, model_name=modelname)\n",
    "# =============================================================================\n",
    "pva1 =              PhotoVoltaicAdvanced('PV Full south', dof = True)\n",
    "pva2 =              PhotoVoltaicAdvanced('PV West', azimuth = 90, dof = True)\n",
    "pva3 =              PhotoVoltaicAdvanced('PV East', azimuth = -90, dof = True)\n",
    "pva4 =              PhotoVoltaicAdvanced('trackingPV2-EW', capex = .75,  tracking=True, azimuth=-90, dof = True)\n",
    "wind1 =             Wind('Onshore turbine', dof = True)\n",
    "wind2 =             WindOffshore('OSWF NW', lat=54, lon=5.58, dof = True)\n",
    "wind3 =             WindOffshore('BWZF2', lat=51.7, lon=3, dof = True)\n",
    "bat1 =              Lithium('Li-ion EES', dof = True)\n",
    "charger1 =          FastCharger('DC quickcharger')\n",
    "petrolstation =     Consumer('Petrolstation E. demand')\n",
    "grid =              Grid('Grid connection', installed = 150e3)\n",
    "# ============================================================================="
   ]
  },
  {
   "source": [
    "# add the components to the system\n",
    "component_list = [pva1, pva2, pva3, pva4, wind1, wind2, wind3, bat1, charger1, petrolstation, grid]\n",
    "system.add_components(component_list)"
   ],
   "cell_type": "code",
   "metadata": {},
   "execution_count": 3,
   "outputs": []
  },
  {
   "source": [
    "# define the file path and run with optimization with options supplied\n",
    "filepath = 'cache/'+modelname+'.json'\n",
    "system.optimize(\n",
    "            objective='tco',        # total cost of ownership\n",
    "            time=None,              # resorts to default; year 8760h\n",
    "            store=True,             # write-out to json\n",
    "            filepath=filepath,          # resorts to default: modelname+timestamp\n",
    "            solver='gurobi',        # default solver\n",
    "            nonconvex=False,        # solver option (warning will show if needed)\n",
    "            solve=True,             # solve or just create model\n",
    ")"
   ],
   "cell_type": "code",
   "metadata": {},
   "execution_count": 4,
   "outputs": [
    {
     "output_type": "stream",
     "name": "stdout",
     "text": [
      "API call matches last call, using stored data\n",
      "\n",
      "Calculating time series for 11 components...\n",
      "\n",
      "\n",
      "PV Full south triggered run_model\n",
      "\n",
      "\n",
      "\n",
      "\n",
      "PV West triggered run_model\n",
      "\n",
      "\n",
      "\n",
      "\n",
      "PV East triggered run_model\n",
      "\n",
      "\n",
      "\n",
      "\n",
      "trackingPV2-EW triggered run_model\n",
      "\n",
      "\n",
      "---> Note: lithium1 does not have 'calculate_time_serie' function\n",
      "---> Note: grid1 does not have 'calculate_time_serie' function\n",
      "pva1 size                 =  0.0 kW(h)\n",
      "pva2 size                 =  0.0 kW(h)\n",
      "pva3 size                 =  0.0 kW(h)\n",
      "pva4 size                 =  415.7 kW(h)\n",
      "wind1 size                 =  0.0 kW(h)\n",
      "windoffshore1 size                 =  185.6 kW(h)\n",
      "windoffshore2 size                 =  56.5 kW(h)\n",
      "lithium1 size                 =  1128.7 kW(h)\n",
      "\n",
      "Total system cost (objective)=  -584.6 k€\n",
      "proceeding to hacky method of splitting power to pos/neg\n"
     ]
    }
   ]
  },
  {
   "cell_type": "code",
   "execution_count": null,
   "metadata": {},
   "outputs": [],
   "source": []
  }
 ]
}