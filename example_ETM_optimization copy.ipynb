{
 "metadata": {
  "language_info": {
   "codemirror_mode": {
    "name": "ipython",
    "version": 3
   },
   "file_extension": ".py",
   "mimetype": "text/x-python",
   "name": "python",
   "nbconvert_exporter": "python",
   "pygments_lexer": "ipython3",
   "version": "3.9.0"
  },
  "orig_nbformat": 2,
  "kernelspec": {
   "name": "python390jvsc74a57bd04529b553aa7d81b3b45216ac3ee60759217b4fd9f23ee45243073df3afbe4276",
   "display_name": "Python 3.9.0 64-bit"
  },
  "metadata": {
   "interpreter": {
    "hash": "4529b553aa7d81b3b45216ac3ee60759217b4fd9f23ee45243073df3afbe4276"
   }
  }
 },
 "nbformat": 4,
 "nbformat_minor": 2,
 "cells": [
  {
   "source": [
    "## Import relevant packages\n",
    "from os import name\n",
    "import pandas as pd\n",
    "from LESO import System\n",
    "from LESO import PhotoVoltaic, Wind, Lithium, ETMdemand, Grid, FinalBalance, PhotoVoltaicAdvanced, WindOffshore"
   ],
   "cell_type": "code",
   "metadata": {},
   "execution_count": null,
   "outputs": []
  },
  {
   "cell_type": "code",
   "execution_count": null,
   "metadata": {},
   "outputs": [],
   "source": [
    "\n",
    "## Define system and components\n",
    "modelname = 'ETM Noord-Veluwe trial 1'\n",
    "lat, lon = 52.4, 5.8\n",
    "system = System(lat, lon, model_name=modelname)\n",
    "# =============================================================================\n",
    "pva1 =              PhotoVoltaicAdvanced('PV Full south', dof = True)\n",
    "pva2 =              PhotoVoltaicAdvanced('PV West', azimuth = 90, dof = True)\n",
    "pva3 =              PhotoVoltaicAdvanced('PV East', azimuth = -90, dof = True)\n",
    "pva4 =              PhotoVoltaicAdvanced('trackingPV2-EW', capex = .75,  tracking=True, azimuth=-90, dof = True)\n",
    "wind1 =             Wind('Onshore turbine', lat=lat, lon=lon, dof = True)\n",
    "wind2 =             WindOffshore('OSWF NW', lat=54, lon=5.58, dof = True)\n",
    "wind3 =             WindOffshore('BWZF2', lat=51.7, lon=3, dof = True)\n",
    "bat1 =              Lithium('Li-ion EES', dof = True)\n",
    "demand =            ETMdemand('NoordVeluwe2018')\n",
    "grid =              Grid('Grid connection', installed = 150e3)\n",
    "deficit =           FinalBalance()\n",
    "# ============================================================================="
   ]
  },
  {
   "source": [
    "# add the components to the system\n",
    "component_list = [pva1, pva2, pva3, wind1, wind2, wind3, bat1, demand, deficit]\n",
    "system.add_components(component_list)\n",
    "\n",
    "# update upper limit to 200 MW\n",
    "system.update_component_attr('upper', 200e6)\n",
    "deficit.lower = -200e6\n",
    "deficit.upper = 0"
   ],
   "cell_type": "code",
   "metadata": {},
   "execution_count": null,
   "outputs": []
  },
  {
   "cell_type": "code",
   "execution_count": null,
   "metadata": {},
   "outputs": [],
   "source": [
    "system.pyomo_print()"
   ]
  },
  {
   "source": [
    "# define the file path and run with optimization with options supplied\n",
    "filepath = 'cache/'+modelname+'.json'\n",
    "system.optimize(\n",
    "            objective='tco',        # total cost of ownership\n",
    "            time=None,              # resorts to default; year 8760h\n",
    "            store=True,             # write-out to json\n",
    "            filepath=filepath,          # resorts to default: modelname+timestamp\n",
    "            solver='gurobi',        # default solver\n",
    "            nonconvex=False,        # solver option (warning will show if needed)\n",
    "            solve=True,             # solve or just create model\n",
    ")"
   ],
   "cell_type": "code",
   "metadata": {},
   "execution_count": null,
   "outputs": []
  },
  {
   "cell_type": "code",
   "execution_count": null,
   "metadata": {},
   "outputs": [],
   "source": []
  }
 ]
}