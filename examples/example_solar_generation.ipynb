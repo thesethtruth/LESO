{
 "metadata": {
  "language_info": {
   "codemirror_mode": {
    "name": "ipython",
    "version": 3
   },
   "file_extension": ".py",
   "mimetype": "text/x-python",
   "name": "python",
   "nbconvert_exporter": "python",
   "pygments_lexer": "ipython3",
   "version": 3
  },
  "orig_nbformat": 2
 },
 "nbformat": 4,
 "nbformat_minor": 2,
 "cells": [
  {
   "cell_type": "code",
   "execution_count": null,
   "metadata": {},
   "outputs": [],
   "source": [
    "# example_solar_generation.py\n",
    "## import needed packages\n",
    "import pandas as pd\n",
    "import pvlib\n",
    "import numpy as np\n",
    "import seaborn as sns\n",
    "import matplotlib.pyplot as plt\n",
    "\n",
    "from LESO import System\n",
    "from LESO import PhotoVoltaic, PhotoVoltaicAdvanced, BifacialPhotoVoltaic\n",
    "from LESO.feedinfunctions import PVlibweather\n",
    "from LESO.feedinfunctions import bifacial"
   ]
  },
  {
   "cell_type": "code",
   "execution_count": null,
   "metadata": {},
   "outputs": [],
   "source": [
    "## Set up the components and system\n",
    "pv1 =           PhotoVoltaic('simplePV')\n",
    "pv2 =           PhotoVoltaicAdvanced('advancedPV')\n",
    "pv3 =           PhotoVoltaicAdvanced('trackingPV-NS', tracking=True)\n",
    "pv4 =           PhotoVoltaicAdvanced('trackingPV2-EW', tracking=True, azimuth=-90)\n",
    "pv5 =           BifacialPhotoVoltaic('bifacialPV')\n",
    "\n",
    "modelname = 'Trial to compare'\n",
    "system = System(52, 5, model_name = modelname)\n",
    "system.add_components([pv1, pv2, pv3, pv4, pv5])\n",
    "system.fetch_input_data()\n",
    "system.calculate_time_series()\n",
    "\n",
    "for pv in system.components:\n",
    "    print(f'{pv.name}: {pv.state.power.sum()/pv.installed} kWh / ( year * kWp )')\n",
    "\n",
    "# Note: bifacial not working ATM"
   ]
  },
  {
   "cell_type": "code",
   "execution_count": null,
   "metadata": {},
   "outputs": [],
   "source": [
    "## plot yield over month\n",
    "system.components[0].sum_by_month()\n",
    "\n",
    "fig = plt.figure(figsize=(12,5))\n",
    "i = 0.\n",
    "r = np.arange(len(system.components[0].monthly_state.index))\n",
    "barwidth = .2\n",
    "colors = sns.color_palette('Set3', len(system.components))\n",
    "\n",
    "for i, component in enumerate(system.components):\n",
    "    component.sum_by_month()\n",
    "    plt.bar(\n",
    "        r, \n",
    "        list(component.monthly_state.values.flatten()), \n",
    "        label = component.name,\n",
    "        width=barwidth,\n",
    "        alpha = 1,\n",
    "        color = colors[i]\n",
    "    )\n",
    "    plt.legend()\n",
    "    r = [x + barwidth for x in r]\n",
    "\n",
    "plt.xticks([x - 3*barwidth for x in r], list(system.components[0].monthly_state.index), rotation = -90)\n",
    "plt.tick_params(left=False, labelleft=False) #remove ticks\n",
    "plt.box(False) #remove box"
   ]
  }
 ]
}